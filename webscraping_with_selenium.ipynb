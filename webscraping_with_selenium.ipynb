{
 "cells": [
  {
   "cell_type": "markdown",
   "id": "c18f75c8",
   "metadata": {},
   "source": [
    "# Brief **Introduction au webscraping**\n",
    "\n",
    "**Auteur**: César Gattano"
   ]
  },
  {
   "cell_type": "markdown",
   "id": "43f1a33d",
   "metadata": {},
   "source": [
    "## Rappel des consignes du projet\n",
    "\n",
    "Pour l'étude de la certification, plusieurs parcours d'apprentissage sont proposé par Microsoft Learn, chaque parcours d'apprentissage est constitué de modules, chaque module est constitué de plusieurs page de cours, dans plusieurs pages vous retrouverez des paragraphes, des tableaux.\n",
    "Il est demandé de récupérer chaque page de cours de chaque module pour chacun des parcours d'apprentissage de la certification.\n",
    "Stockez l'ensemble dans une base de données MongoDB (en local ou sur Atlas). Proposez un schéma de stockage qui vous semblera pertinent.\n",
    "\n",
    "Restituez l'ensemble de vos travaux sur un notebook jupyter (extraction, aggrégation des données et mise en base sur mongoDB).\n",
    "Utilisez requests pour les requêtes HTTP, beautifulsoup pour le parsing HTML et le client python pymongo pour stocker en base MongoDB.\n",
    "\n",
    "Pour orienter vos recherches :\n",
    "Définissez :\n",
    "- Attaque DDOS\n",
    "- Arborescence DOM\n",
    "- Elément enfant / parent / frère\n",
    "- Balise HTML inline\n",
    "- Nom d'une balise HTML\n",
    "- Attribut de balise et valeur d'attribut HTML\n",
    "- Différences entre id et class sur une balise HTML\n",
    "- Format BJSON\n",
    "\n",
    "De plus, je souhaite que vous réfléchissiez sur les questions suivantes :\n",
    "- Qu'est-ce que le webscraping ?\n",
    "- Est-ce que le webscraping est légal ?\n",
    "- Quelles sont les bonnes pratiques ?\n",
    "- Qu'est-ce qui est proscrit ?"
   ]
  },
  {
   "cell_type": "code",
   "execution_count": 1,
   "id": "7596d5c4",
   "metadata": {},
   "outputs": [],
   "source": [
    "# Importation selenium requise pour l'éxecution du notebook\n",
    "from selenium import webdriver\n",
    "\n",
    "# Importation beautiful soup requise pour l'éxecution du notebook\n",
    "from bs4 import BeautifulSoup, NavigableString, PageElement\n",
    "from bs4._typing import _AtMostOneElement\n",
    "\n",
    "# Importation pymongo requise pour l'éxecution du notebook\n",
    "from pymongo import MongoClient\n",
    "\n",
    "# Autres importations requises\n",
    "import time\n",
    "import re"
   ]
  },
  {
   "cell_type": "markdown",
   "id": "d6b6e236",
   "metadata": {},
   "source": [
    "## **selenium**: requête serveur pour la récupération du contenu de la page"
   ]
  },
  {
   "cell_type": "markdown",
   "id": "a7913dee",
   "metadata": {},
   "source": [
    "On définit en premier lieu l'url et les options pour le navigateur Chrome de **selenium**"
   ]
  },
  {
   "cell_type": "code",
   "execution_count": 2,
   "id": "165daa05",
   "metadata": {},
   "outputs": [],
   "source": [
    "url = \"https://learn.microsoft.com/fr-fr/training/courses/dp-203t00\"\n",
    "\n",
    "options = webdriver.ChromeOptions()\n",
    "options.add_argument('headless')"
   ]
  },
  {
   "cell_type": "markdown",
   "id": "bed212be",
   "metadata": {},
   "source": [
    "On crée le navigateur chrome et on lance la requête pour accéder à la page initiale"
   ]
  },
  {
   "cell_type": "code",
   "execution_count": 3,
   "id": "ae5ff68f",
   "metadata": {},
   "outputs": [],
   "source": [
    "browser = webdriver.Chrome(options=options)\n",
    "browser.get(url)\n",
    "# Attente de 2sec pour être sûr d'avoir chargé toute la page\n",
    "time.sleep(2)"
   ]
  },
  {
   "cell_type": "markdown",
   "id": "fa0ba92b",
   "metadata": {},
   "source": [
    "## **beautiful soup**: analyse du contenu HTML de la page pour extraction d'information"
   ]
  },
  {
   "cell_type": "markdown",
   "id": "019487cf",
   "metadata": {},
   "source": [
    "On transforme le contenu de la page pour pouvoir opérer le webscraping avec **beautiful soup**."
   ]
  },
  {
   "cell_type": "code",
   "execution_count": 4,
   "id": "2ef6150d",
   "metadata": {},
   "outputs": [],
   "source": [
    "soup = BeautifulSoup(browser.page_source, \"html.parser\")"
   ]
  },
  {
   "cell_type": "markdown",
   "id": "9f719c24",
   "metadata": {},
   "source": [
    "### Webscrapping sur la page initiale\n",
    "\n",
    "Sur cette première page la seule tâche et de récupérer les url pour chaque parcours d'apprentissage et le titre de ces parcours. Pour cela, on filtre les balises de manière a isoler les seules balises qui contiennent ces informations."
   ]
  },
  {
   "cell_type": "code",
   "execution_count": 5,
   "id": "6d4a98a4",
   "metadata": {},
   "outputs": [
    {
     "name": "stdout",
     "output_type": "stream",
     "text": [
      "https://learn.microsoft.com/fr-fr/training/paths/get-started-data-engineering/ \n",
      " Commencez avec l’ingénierie des données sur Azure\n",
      "https://learn.microsoft.com/fr-fr/training/paths/build-data-analytics-solutions-using-azure-synapse-serverless-sql-pools/ \n",
      " Créer des solutions d’analytique données avec des pools SQL serverless Azure Synapse\n",
      "https://learn.microsoft.com/fr-fr/training/paths/perform-data-engineering-with-azure-synapse-apache-spark-pools/ \n",
      " Appliquer l’Engineering données avec des pools Azure Synapse Apache Spark\n",
      "https://learn.microsoft.com/fr-fr/training/paths/transfer-transform-data-azure-synapse-analytics-pipelines/ \n",
      " Transférer et transformer des données avec des pipelines Azure Synapse Analytics\n",
      "https://learn.microsoft.com/fr-fr/training/paths/implement-data-analytics-azure-synapse-analytics/ \n",
      " Implémenter une solution d’analytique données avec Azure Synapse Analytics\n",
      "https://learn.microsoft.com/fr-fr/training/paths/work-with-data-warehouses-using-azure-synapse-analytics/ \n",
      " Utiliser des entrepôts de données avec Azure Synapse Analytics\n",
      "https://learn.microsoft.com/fr-fr/training/paths/work-with-hybrid-transactional-analytical-processing-solutions/ \n",
      " Utiliser des solutions de traitement transactionnel et analytique hybrides avec Azure Synapse Analytics\n",
      "https://learn.microsoft.com/fr-fr/training/paths/implement-data-streaming-with-asa/ \n",
      " Implémenter une solution de streaming de données avec Azure Stream Analytics\n",
      "https://learn.microsoft.com/fr-fr/training/paths/data-engineer-azure-databricks/ \n",
      " Implémenter une solution d’analytique data lakehouse avec Azure Databricks\n"
     ]
    }
   ],
   "source": [
    "for tag in soup.find_all(\"a\", class_=\"card-title\", attrs={\"data-bi-name\": \"study-guide\"}, href=re.compile(\"^/fr-fr/training\")):\n",
    "    url = \"https://learn.microsoft.com\" + tag.get_attribute_list(\"href\")[0]\n",
    "    title = tag.get_text(strip=True)\n",
    "    print(url, \"\\n\", title)"
   ]
  },
  {
   "cell_type": "markdown",
   "id": "5a0f340e",
   "metadata": {},
   "source": [
    "Pour commencer, on va se pencher sur le premier url extrait et lancer une nouvelle requête au navigateur"
   ]
  },
  {
   "cell_type": "code",
   "execution_count": 6,
   "id": "e8481f24",
   "metadata": {},
   "outputs": [
    {
     "name": "stdout",
     "output_type": "stream",
     "text": [
      "Changement de page: https://learn.microsoft.com/fr-fr/training/paths/get-started-data-engineering/\n"
     ]
    }
   ],
   "source": [
    "tag = soup.find(\"a\", class_=\"card-title\", attrs={\"data-bi-name\": \"study-guide\"}, href=re.compile(\"^/fr-fr/training\"))\n",
    "url = \"https://learn.microsoft.com\" + tag.get_attribute_list(\"href\")[0]\n",
    "print(f\"Changement de page: {url}\")\n",
    "browser.get(url)\n",
    "time.sleep(2)\n",
    "soup_p1 = BeautifulSoup(browser.page_source, \"html.parser\")"
   ]
  },
  {
   "cell_type": "markdown",
   "id": "ad8a1281",
   "metadata": {},
   "source": [
    "### Webscrapping sur la page du premier parcours d'apprentissage\n",
    "\n",
    "L'information que l'on recherche est concentré dans une balise de la class *modular-content-container*. On inspecte les textes qu'elle contient."
   ]
  },
  {
   "cell_type": "code",
   "execution_count": 7,
   "id": "8bccf8fd",
   "metadata": {},
   "outputs": [
    {
     "name": "stdout",
     "output_type": "stream",
     "text": [
      "2400 XP\n",
      "Commencez avec l’ingénierie des données sur Azure\n",
      "2 h 18 min\n",
      "Parcours d’apprentissage\n",
      "3 Modules\n",
      "Intermédiaire\n",
      "Ingénieur Data\n",
      "Azure Data Lake Storage\n",
      "Azure Synapse Analytics\n",
      "Dans la plupart des organisations, un ingénieur Données est le rôle principal responsable de l’intégration, de la transformation et du regroupement des données de divers systèmes de données structurés et non structurés dans des structures adaptées à la création de solutions d’analytique. Les Ingénieurs Données Azure veillent également à ce que les pipelines de données et les magasins de données restent très performants, efficaces, organisés et fiables, en fonction d’un ensemble spécifique d’exigences et de contraintes stratégiques.\n",
      "Prérequis\n",
      "Avant de commencer ce parcours d’apprentissage, vous devez avoir terminé la\n",
      "certification Microsoft Azure Data Fundamentals\n",
      "ou avoir une connaissance et une expérience équivalentes.\n",
      "Démarrer\n",
      "Ajouter\n",
      "Ajouter à des collections\n",
      "Ajouter au plan\n",
      "Ajouter aux défis\n",
      "Code de réussite\n",
      "Souhaitez-vous demander un code de réussite ?\n",
      "Demander le code de succès\n"
     ]
    }
   ],
   "source": [
    "contents = soup_p1.find_all(\"div\", class_=\"modular-content-container\")\n",
    "\n",
    "for string in contents[0].stripped_strings:\n",
    "    print(string)\n"
   ]
  },
  {
   "cell_type": "markdown",
   "id": "53c67286",
   "metadata": {},
   "source": [
    "On récupère les informations pertinentes correspondant à un parcours d'apprentissage"
   ]
  },
  {
   "cell_type": "code",
   "execution_count": 8,
   "id": "2b49b88b",
   "metadata": {},
   "outputs": [
    {
     "name": "stdout",
     "output_type": "stream",
     "text": [
      "Titre: Commencez avec l’ingénierie des données sur Azure\n",
      "Durée: 2 h 18 min\n",
      "nombre de modules: 3\n",
      "Avant-propos: Dans la plupart des organisations, un ingénieur Données est le rôle principal responsable de l’intégration, de la transformation et du regroupement des données de divers systèmes de données structurés et non structurés dans des structures adaptées à la création de solutions d’analytique. Les Ingénieurs Données Azure veillent également à ce que les pipelines de données et les magasins de données restent très performants, efficaces, organisés et fiables, en fonction d’un ensemble spécifique d’exigences et de contraintes stratégiques.\n",
      "Niveau: Intermédiaire\n",
      "Mots-clés: ['Ingénieur Data', 'Azure Data Lake Storage', 'Azure Synapse Analytics']\n",
      "Prérequis: Avant de commencer ce parcours d’apprentissage, vous devez avoir terminé la certification Microsoft Azure Data Fundamentals ou avoir une connaissance et une expérience équivalentes.\n"
     ]
    }
   ],
   "source": [
    "soup_p1_general = contents[0]\n",
    "list_strings = list(soup_p1_general.stripped_strings)\n",
    "\n",
    "title = list_strings[1]\n",
    "print(f\"Titre: {title}\")\n",
    "\n",
    "duration = list_strings[2]\n",
    "print(f\"Durée: {duration}\")\n",
    "\n",
    "nb_module = int(list_strings[4].split()[0])\n",
    "print(f\"nombre de modules: {nb_module}\")\n",
    "\n",
    "idx = list_strings.index(\"Prérequis\")\n",
    "syllabus = list_strings[idx-1]\n",
    "print(f\"Avant-propos: {syllabus}\")\n",
    "\n",
    "level = list_strings[5]\n",
    "print(f\"Niveau: {level}\")\n",
    "\n",
    "keywords = list_strings[6:idx-1]\n",
    "print(f\"Mots-clés: {keywords}\")\n",
    "\n",
    "idx2 = list_strings.index(\"Démarrer\")\n",
    "prerequisite = \" \".join(list_strings[idx+1:idx2])\n",
    "print(f\"Prérequis: {prerequisite}\")\n"
   ]
  },
  {
   "cell_type": "markdown",
   "id": "46be555d",
   "metadata": {},
   "source": [
    "Dans la perspective d'une mise en base de données ultérieure, on va aggréger toutes ces informations dans un dictionnaire"
   ]
  },
  {
   "cell_type": "code",
   "execution_count": 9,
   "id": "fafeb4ce",
   "metadata": {},
   "outputs": [],
   "source": [
    "new_learning_path = {\n",
    "    \"titre\": title,\n",
    "    \"duree\": duration,\n",
    "    \"avant_propos\": syllabus,\n",
    "    \"niveau\": level,\n",
    "    \"mots_cles\": keywords,\n",
    "    \"prerequis\": prerequisite,\n",
    "    \"module_ids\": [],\n",
    "}\n",
    "# Les module_ids seront complétées plus tard durant la mise en base de données."
   ]
  },
  {
   "cell_type": "markdown",
   "id": "a40403fc",
   "metadata": {},
   "source": [
    "Pour le reste de cette page, on va simplement aller chercher les url des pages de présentation des différents modules composant le parcours d'apprentissage."
   ]
  },
  {
   "cell_type": "code",
   "execution_count": 10,
   "id": "b91e986b",
   "metadata": {},
   "outputs": [
    {
     "data": {
      "text/plain": [
       "['https://learn.microsoft.com/fr-fr/training/modules/introduction-to-data-engineering-azure/',\n",
       " 'https://learn.microsoft.com/fr-fr/training/modules/introduction-to-azure-data-lake-storage/',\n",
       " 'https://learn.microsoft.com/fr-fr/training/modules/introduction-azure-synapse-analytics/']"
      ]
     },
     "execution_count": 10,
     "metadata": {},
     "output_type": "execute_result"
    }
   ],
   "source": [
    "soup_p1_modules = contents[1]\n",
    "link_lists = []\n",
    "for tag in soup_p1_modules.find_all(href=re.compile(\"^../../modules\")):\n",
    "    link_lists.append(tag.get_attribute_list(\"href\")[0])\n",
    "for link in link_lists:\n",
    "    nb_occurences = link_lists.count(link)\n",
    "    for _ in range(nb_occurences-1):\n",
    "        link_lists.remove(link)\n",
    "link_lists = [\"https://learn.microsoft.com/fr-fr/training/\" + link[6:] for link in link_lists]\n",
    "link_lists\n"
   ]
  },
  {
   "cell_type": "markdown",
   "id": "240c645c",
   "metadata": {},
   "source": [
    "À nouveau, on va se limiter au premier url pour le premier module afin d'en extraire les informations pertinentes"
   ]
  },
  {
   "cell_type": "code",
   "execution_count": 11,
   "id": "22684980",
   "metadata": {},
   "outputs": [
    {
     "name": "stdout",
     "output_type": "stream",
     "text": [
      "Changement de page vers https://learn.microsoft.com/fr-fr/training/modules/introduction-to-data-engineering-azure/...\n"
     ]
    }
   ],
   "source": [
    "url = link_lists[0]\n",
    "print(f\"Changement de page vers {url}...\")\n",
    "browser.get(url)\n",
    "time.sleep(2)\n",
    "soup_p1_m1 = BeautifulSoup(browser.page_source, \"html.parser\")"
   ]
  },
  {
   "cell_type": "markdown",
   "id": "026c103f",
   "metadata": {},
   "source": [
    "### Webscrapping sur la page du premier module\n",
    "\n",
    "À nouveau l'ensemble de l'information pertinente est concentrée dans une balise de la classe *modular-content-container*."
   ]
  },
  {
   "cell_type": "code",
   "execution_count": 12,
   "id": "fb2c1a22",
   "metadata": {},
   "outputs": [
    {
     "name": "stdout",
     "output_type": "stream",
     "text": [
      "700 XP\n",
      "Présentation de l’engineering données dans Azure\n",
      "26 min\n",
      "Module\n",
      "6 Unités\n",
      "Commentaires\n",
      "Intermédiaire\n",
      "Ingénieur Data\n",
      "Azure\n",
      "Microsoft Azure fournit une plateforme complète pour l’engineering données, mais qu’est-ce que l’engineering données ? Suivez ce module pour le découvrir.\n",
      "Objectifs d’apprentissage\n",
      "Dans ce module, vous allez apprendre à :\n",
      "Identifier les tâches courantes d’ingénierie des données\n",
      "Décrire les concepts courants d’ingénierie des données\n",
      "Identifier les services Azure pour l’ingénierie des données\n",
      "Démarrer\n",
      "Ajouter\n",
      "Ajouter à des collections\n",
      "Ajouter au plan\n",
      "Ajouter aux défis\n",
      "Prérequis\n",
      "Avant de commencer ce module, vous devez avoir effectué la\n",
      "certification Microsoft Azure Data Fundamentals\n",
      "ou avoir des connaissances et une expérience équivalentes.\n",
      "Prise en main d’Azure\n",
      "Choisissez le compte Azure qui vous convient. Payez à l’utilisation ou essayez Azure gratuitement pendant jusqu’à 30 jours.\n",
      "S’inscrire.\n",
      "Ce module fait partie de ces parcours d’apprentissage\n",
      "Commencez avec l’ingénierie des données sur Azure\n",
      "Passer l’évaluation du module\n",
      "Résultats de l’évaluation du module\n",
      "Évaluez votre compréhension de ce module. Connectez-vous et répondez correctement à toutes les questions pour obtenir une mention de réussite sur votre profil.\n",
      "Présentation\n",
      "3 min\n",
      "Qu’est-ce que l’ingénierie des données ?\n",
      "5 min\n",
      "Concepts importants de l’ingénierie des données\n",
      "6 min\n",
      "Ingénierie des données dans Microsoft Azure\n",
      "6 min\n",
      "Évaluation du module\n",
      "3 min\n",
      "Résumé\n",
      "3 min\n",
      "Évaluation du module\n",
      "Évaluez votre compréhension de ce module. Connectez-vous et répondez correctement à toutes les questions pour obtenir une mention de réussite sur votre profil.\n",
      "Passer l’évaluation du module\n"
     ]
    }
   ],
   "source": [
    "content = soup_p1_m1.find(\"div\", class_=\"modular-content-container\")\n",
    "\n",
    "for string in content.stripped_strings:\n",
    "    print(string)\n"
   ]
  },
  {
   "cell_type": "markdown",
   "id": "3ebc6b05",
   "metadata": {},
   "source": [
    "On extrait l'information pertinente à partir de la liste de strings."
   ]
  },
  {
   "cell_type": "code",
   "execution_count": 13,
   "id": "72e2f35d",
   "metadata": {},
   "outputs": [
    {
     "name": "stdout",
     "output_type": "stream",
     "text": [
      "Titre: Présentation de l’engineering données dans Azure\n",
      "Durée: 26 min\n",
      "nombre d'unités: 6\n",
      "Avant-propos: Microsoft Azure fournit une plateforme complète pour l’engineering données, mais qu’est-ce que l’engineering données ? Suivez ce module pour le découvrir.\n",
      "Niveau: Intermédiaire\n",
      "Mots-clés: ['Ingénieur Data', 'Azure']\n",
      "Objectifs: ['Identifier les tâches courantes d’ingénierie des données', 'Décrire les concepts courants d’ingénierie des données', 'Identifier les services Azure pour l’ingénierie des données']\n",
      "Prérequis: Avant de commencer ce module, vous devez avoir effectué la certification Microsoft Azure Data Fundamentals ou avoir des connaissances et une expérience équivalentes.\n",
      "Fait partie des parcours: ['Commencez avec l’ingénierie des données sur Azure']\n"
     ]
    }
   ],
   "source": [
    "soup_p1_m1_general = content\n",
    "list_strings = list(soup_p1_m1_general.stripped_strings)\n",
    "\n",
    "title = list_strings[1]\n",
    "print(f\"Titre: {title}\")\n",
    "\n",
    "duration = list_strings[2]\n",
    "print(f\"Durée: {duration}\")\n",
    "\n",
    "nb_units = int(list_strings[4].split()[0])\n",
    "print(f\"nombre d'unités: {nb_units}\")\n",
    "\n",
    "idx = list_strings.index(\"Objectifs d’apprentissage\")\n",
    "syllabus = list_strings[idx-1]\n",
    "print(f\"Avant-propos: {syllabus}\")\n",
    "\n",
    "level = list_strings[6]\n",
    "print(f\"Niveau: {level}\")\n",
    "\n",
    "keywords = list_strings[7:idx-1]\n",
    "print(f\"Mots-clés: {keywords}\")\n",
    "\n",
    "idx2 = list_strings.index(\"Démarrer\")\n",
    "goals = list_strings[idx+2:idx2]\n",
    "print(f\"Objectifs: {goals}\")\n",
    "\n",
    "idx3 = list_strings.index(\"Prérequis\")\n",
    "idx4 = list_strings.index(\"Prise en main d’Azure\")\n",
    "prerequisite = \" \".join(list_strings[idx3+1:idx4])\n",
    "print(f\"Prérequis: {prerequisite}\")\n",
    "\n",
    "idx5 = list_strings.index(\"Ce module fait partie de ces parcours d’apprentissage\")\n",
    "idx6 = list_strings.index(\"Passer l’évaluation du module\")\n",
    "belongs_to = list_strings[idx5+1:idx6]\n",
    "print(f\"Fait partie des parcours: {belongs_to}\")"
   ]
  },
  {
   "cell_type": "markdown",
   "id": "4cdc4f27",
   "metadata": {},
   "source": [
    "À nouveau, dans la perspective d'une mise en base de données, nous allons aggréger ces informations dans un dictionnaire"
   ]
  },
  {
   "cell_type": "code",
   "execution_count": 14,
   "id": "40ffe121",
   "metadata": {},
   "outputs": [],
   "source": [
    "new_module = {\n",
    "    \"titre\": title,\n",
    "    \"duree\": duration,\n",
    "    \"avant_propos\": syllabus,\n",
    "    \"niveau\": level,\n",
    "    \"mots_cles\": keywords,\n",
    "    \"objectifs\": goals,\n",
    "    \"prerequis\": prerequisite,\n",
    "    \"parcours_ids\": [],\n",
    "    \"notion_ids\": [],\n",
    "}\n",
    "# Les parcours_ids et notion_ids seront complétés ultérieurement durant la mise en base"
   ]
  },
  {
   "cell_type": "markdown",
   "id": "b96eefa1",
   "metadata": {},
   "source": [
    "Pour le reste de cette page, on va simplement extraire les chemins relatifs des différentes unités de cours pour obtenir leur url"
   ]
  },
  {
   "cell_type": "code",
   "execution_count": 15,
   "id": "f67c5d57",
   "metadata": {},
   "outputs": [
    {
     "data": {
      "text/plain": [
       "['https://learn.microsoft.com/fr-fr/training/modules/introduction-to-data-engineering-azure/1-introduction',\n",
       " 'https://learn.microsoft.com/fr-fr/training/modules/introduction-to-data-engineering-azure/2-what-data-engineering',\n",
       " 'https://learn.microsoft.com/fr-fr/training/modules/introduction-to-data-engineering-azure/4-common-patterns-azure-data-engineering',\n",
       " 'https://learn.microsoft.com/fr-fr/training/modules/introduction-to-data-engineering-azure/5-common-tooling-azure-data-engineering',\n",
       " 'https://learn.microsoft.com/fr-fr/training/modules/introduction-to-data-engineering-azure/6-knowledge-check',\n",
       " 'https://learn.microsoft.com/fr-fr/training/modules/introduction-to-data-engineering-azure/7-summary']"
      ]
     },
     "execution_count": 15,
     "metadata": {},
     "output_type": "execute_result"
    }
   ],
   "source": [
    "unit_list_tag = soup_p1_m1.find('ul', id=\"unit-list\")\n",
    "link_lists = []\n",
    "for tag in unit_list_tag.find_all(href=True):\n",
    "    link_lists.append(url + tag.get_attribute_list(\"href\")[0])\n",
    "link_lists"
   ]
  },
  {
   "cell_type": "markdown",
   "id": "3d843142",
   "metadata": {},
   "source": [
    "Pour la suite, on va se concentrer sur l'un de ces urls qui redirige vers une unité un tant soit peu complexe afin d'en extraire son contenu"
   ]
  },
  {
   "cell_type": "code",
   "execution_count": 16,
   "id": "d2711237",
   "metadata": {},
   "outputs": [
    {
     "name": "stdout",
     "output_type": "stream",
     "text": [
      "Changement de page vers https://learn.microsoft.com/fr-fr/training/modules/introduction-to-data-engineering-azure/2-what-data-engineering...\n"
     ]
    }
   ],
   "source": [
    "url = link_lists[1]\n",
    "print(f\"Changement de page vers {url}...\")\n",
    "browser.get(url)\n",
    "time.sleep(2)\n",
    "soup_p1_m1_u2 = BeautifulSoup(browser.page_source, \"html.parser\")"
   ]
  },
  {
   "cell_type": "markdown",
   "id": "c46a76b2",
   "metadata": {},
   "source": [
    "## Webscrapping sur la page d'unité de cours sélectionnée\n",
    "\n",
    "Cette fois-ci, on extrait le contenu grâce à la classe *content*."
   ]
  },
  {
   "cell_type": "code",
   "execution_count": 17,
   "id": "8472e218",
   "metadata": {},
   "outputs": [],
   "source": [
    "content = soup_p1_m1_u2.find(\"div\", class_=\"content\")"
   ]
  },
  {
   "cell_type": "markdown",
   "id": "28c2f495",
   "metadata": {},
   "source": [
    "Au début, on suppose que la structure de la page présente des éléments systématiques quelques soit la page d'unité inspectée: la balise de titre de l'unité de cours et les metadata."
   ]
  },
  {
   "cell_type": "code",
   "execution_count": 18,
   "id": "183dc3e7",
   "metadata": {},
   "outputs": [
    {
     "name": "stdout",
     "output_type": "stream",
     "text": [
      "titre: Qu’est-ce que l’ingénierie des données ?\n",
      "Durée: 5 minutes\n",
      "Metadata: []\n"
     ]
    }
   ],
   "source": [
    "tag = content.find(id='module-unit-title')\n",
    "tag = tag.next_element\n",
    "title = str(tag)\n",
    "print(f\"titre: {title}\")\n",
    "\n",
    "# On saute aux metadata de l'unité de cours également systématique\n",
    "tag = content.find(id=\"module-unit-metadata\")\n",
    "tag = tag.next_element\n",
    "metadata = []\n",
    "while tag:\n",
    "    if not isinstance(tag, NavigableString):\n",
    "        if tag.get_attribute_list(\"id\")[0] == \"module-unit-total-time\":\n",
    "            duration = str(tag.string)\n",
    "        else:\n",
    "            metadata.append(str(tag.string))\n",
    "    tag = tag.next_sibling\n",
    "print(f\"Durée: {duration}\")\n",
    "print(f\"Metadata: {metadata}\")\n"
   ]
  },
  {
   "cell_type": "markdown",
   "id": "ec01350e",
   "metadata": {},
   "source": [
    "Ensuite on s'attaque au bloc de contenu... mais avant ça, on voit que souvent, des **NavigableString** contenant uniquement un retour chariot '\\n' parasite un peu la recherche de contenu. Une fonction pour permettre de les ignorer serait bienvenue."
   ]
  },
  {
   "cell_type": "code",
   "execution_count": 19,
   "id": "a8f4a284",
   "metadata": {},
   "outputs": [],
   "source": [
    "def not_useless_navigable_string(page_element: PageElement) -> bool:\n",
    "    \"\"\"Identify if a PageElement is not a useless NavigableString:\n",
    "    - '\\n'\n",
    "\n",
    "    Args:\n",
    "        page_element (PageElement): The page element\n",
    "\n",
    "    Returns:\n",
    "        bool: is the page element a useless NavigableString ?\n",
    "    \"\"\"\n",
    "    return not(isinstance(page_element, NavigableString) and page_element == '\\n')\n"
   ]
  },
  {
   "cell_type": "markdown",
   "id": "b945035f",
   "metadata": {},
   "source": [
    "La structure du contenu d'une unité de cours pouvant varier d'une unité à l'autre, il est nécessaire de développer un code qui doit pouvoir s'adapter à tous les cas. Le long bloc de code va inspecter l'ensemble des enfants de la balise *content* et va les analyser pour en extraire leur contenu et les aggréger au sein d'un dictionnaire."
   ]
  },
  {
   "cell_type": "code",
   "execution_count": 20,
   "id": "355109e1",
   "metadata": {},
   "outputs": [
    {
     "name": "stdout",
     "output_type": "stream",
     "text": [
      "p\n",
      "h2\n",
      "p\n",
      "div\n",
      "Balise ignorée: div\n",
      "div\n",
      "Balise ignorée: div\n",
      "h2\n",
      "p\n",
      "h3\n",
      "p\n",
      "p\n",
      "h3\n",
      "p\n",
      "p\n",
      "h3\n",
      "p\n",
      "p\n",
      "h2\n",
      "p\n",
      "ul\n",
      "Balise ignorée: ul\n"
     ]
    },
    {
     "data": {
      "text/plain": [
       "{'titre': 'Qu’est-ce que l’ingénierie des données ?',\n",
       " 'duree': '5 minutes',\n",
       " 'texte': ['L’ingénieur données travaillera souvent avec plusieurs types de données pour effectuer de nombreuses opérations à l’aide de nombreux langages de script ou de codage appropriés à leur organisation individuelle.'],\n",
       " 'parts': [{'titre': 'Types de données',\n",
       "   'texte': [\"Il existe trois types principaux de données qu'un ingénieur de données utilisera.\"],\n",
       "   'subparts': []},\n",
       "  {'titre': 'Opérations de données',\n",
       "   'texte': ['En tant qu’ingénieur données, certaines des tâches principales que vous effectuerez dans Azure incluent l’intégration des données , la transformation des données et la consolidation des données .'],\n",
       "   'subparts': [{'titre': 'Intégration de données',\n",
       "     'texte': ['L’intégration des données implique l’établissement de liens entre les services opérationnels et analytiques et les sources de données pour permettre un accès sécurisé et fiable aux données sur plusieurs systèmes. Par exemple, un processus métier peut s’appuyer sur des données réparties sur plusieurs systèmes, et un ingénieur données est nécessaire pour établir des liens afin que les données requises puissent être extraites de tous ces systèmes.']},\n",
       "    {'titre': 'Transformation des données',\n",
       "     'texte': ['Les données opérationnelles doivent généralement être transformées en structure et format appropriés pour l’analyse, souvent dans le cadre d’un processus d’extraction, de transformation et de chargement (ETL) ; bien que de plus en plus une variation dans laquelle vous extrayez, chargez et transformez (ELT) les données sont utilisées pour ingérer rapidement les données dans un lac de données, puis appliquer des techniques de traitement « Big Data » pour les transformer. Quelle que soit l’approche utilisée, les données sont prêtes à prendre en charge les besoins analytiques en aval.']},\n",
       "    {'titre': 'Consolidation des données',\n",
       "     'texte': ['La consolidation des données est le processus de combinaison de données extraites de plusieurs sources de données dans une structure cohérente, généralement pour prendre en charge l’analytique et la création de rapports. En règle générale, les données des systèmes opérationnels sont extraites, transformées et chargées dans des magasins analytiques tels qu’un lac de données ou un entrepôt de données.']}]},\n",
       "  {'titre': 'Langues courantes',\n",
       "   'texte': ['Les ingénieurs données doivent être compétents avec une gamme d’outils et de langages de script , en particulier SQL et Python, et potentiellement d’autres.'],\n",
       "   'subparts': []}]}"
      ]
     },
     "execution_count": 20,
     "metadata": {},
     "output_type": "execute_result"
    }
   ],
   "source": [
    "# Récupération des balises enfants\n",
    "tag = content.find(id=\"module-unit-content\")\n",
    "contents = list(filter(not_useless_navigable_string, tag.children))\n",
    "\n",
    "# Initialisation du dictionnaire (on ajout les informations systématiques extraites ci-dessus)\n",
    "unit_content = {}\n",
    "unit_content[\"titre\"] = title\n",
    "unit_content[\"duree\"] = duration\n",
    "if len(metadata) > 0:\n",
    "    unit_content[\"metadata\"] = metadata\n",
    "unit_content[\"texte\"] = []\n",
    "unit_content[\"parts\"] = []\n",
    "\n",
    "# Initialisation de booléens\n",
    "a_part_is_opened = False\n",
    "a_subpart_is_opened = False\n",
    "\n",
    "# Début de l'inspection\n",
    "for tag in contents:\n",
    "    print(tag.name)\n",
    "\n",
    "    if tag.name == 'p':      \n",
    "        # Traitement d'un paragraphe:\n",
    "        paragraph = \" \".join(tag.stripped_strings).strip()\n",
    "\n",
    "        if paragraph:\n",
    "            # Redirection vers le niveau correspondant du cours\n",
    "            if a_part_is_opened:\n",
    "                if a_subpart_is_opened:\n",
    "                    unit_subpart[\"texte\"].append(paragraph)\n",
    "                else:\n",
    "                    unit_part[\"texte\"].append(paragraph)\n",
    "            else:\n",
    "                unit_content[\"texte\"].append(paragraph)\n",
    "\n",
    "    elif tag.name == 'h2':\n",
    "        # Traitement d'un titre de partie:\n",
    "\n",
    "        # Stop the current part ?\n",
    "        if a_part_is_opened:\n",
    "            # Stop the current subpart ?\n",
    "            if a_subpart_is_opened:\n",
    "                unit_part[\"subparts\"].append(unit_subpart)\n",
    "                a_subpart_is_opened = False\n",
    "            unit_content[\"parts\"].append(unit_part)\n",
    "\n",
    "        # Start a new part\n",
    "        a_part_is_opened = True\n",
    "        unit_part = {}\n",
    "\n",
    "        # Set up the title\n",
    "        unit_part[\"titre\"] = \" \".join(tag.stripped_strings)\n",
    "        # Intialize arrays\n",
    "        unit_part[\"texte\"] = []\n",
    "        unit_part[\"subparts\"] = []\n",
    "\n",
    "    elif tag.name == 'h3':\n",
    "        # Traitement d'un titre de sous-partie:\n",
    "\n",
    "        # Stop the current subpart ?\n",
    "        if a_subpart_is_opened:\n",
    "            unit_part[\"subparts\"].append(unit_subpart)\n",
    "\n",
    "        # Start a new subpart\n",
    "        a_subpart_is_opened = True\n",
    "        unit_subpart = {}\n",
    "\n",
    "        # Set up the title\n",
    "        unit_subpart[\"titre\"] = \" \".join(tag.stripped_strings)\n",
    "        # Initialize arrays\n",
    "        unit_subpart[\"texte\"] = []\n",
    "\n",
    "    else:\n",
    "        # D'autres types de balises sont pour le moment ignorées. Elles pourront être traitées ultérieurement\n",
    "        print(f\"Balise ignorée: {tag.name}\")\n",
    "\n",
    "else:\n",
    "    # Finalisation de l'inspection et du dictionnaire créé\n",
    "\n",
    "    # Stop the current part ?\n",
    "    if a_part_is_opened:\n",
    "        # Stop the current subpart ?\n",
    "        if a_subpart_is_opened:\n",
    "            unit_part[\"subparts\"].append(unit_subpart)\n",
    "            a_subpart_is_opened = False\n",
    "        unit_content[\"parts\"].append(unit_part)\n",
    "\n",
    "unit_content\n"
   ]
  },
  {
   "cell_type": "markdown",
   "id": "ba375b77",
   "metadata": {},
   "source": [
    "## **pymongo**: mise en base de données **mongoDB**\n",
    "\n",
    "Maintenant que nous avons réussi à extraire un certain nombre d'informations, il est temps de chercher à les mettre en base de données. Pour cela nous utilisons la techno **mongoDB** pour une base de données NoSQL. Avant de procéder à la mise en base de données à proprement parler, il est nécessaire de penser à la structure de notre base de données.\n",
    "\n",
    "Voici le schéma réalisé pour ce projet"
   ]
  },
  {
   "cell_type": "markdown",
   "id": "ec7623fb",
   "metadata": {},
   "source": [
    "<img src=\"mongoDB_schema-min.png\" alt=\"schema mongoDB\">"
   ]
  },
  {
   "cell_type": "markdown",
   "id": "d890d809",
   "metadata": {},
   "source": [
    "*Note: il manque **titre** comme attribut aux collections **parcours_apprentissage** et **module_cours**, ainsi que **durée** et **metadata** à la collection **notion_cours**.*"
   ]
  },
  {
   "cell_type": "markdown",
   "id": "2b7f08a8",
   "metadata": {},
   "source": [
    "L'idée est d'avoir trois collections: parcours d'apprentissage, module de cours et notions de cours. Une notion de cours peut être une unité de cours, mais aussi une partie d'unité de cours ou encore une sous-partie. Une notion de cours est ainsi elle-même composée de notions de cours."
   ]
  },
  {
   "cell_type": "markdown",
   "id": "bcd8aa3c",
   "metadata": {},
   "source": [
    "### Connection à la base de données\n",
    "\n",
    "Commençons d'abord par nous connecter à la base de données:"
   ]
  },
  {
   "cell_type": "code",
   "execution_count": 21,
   "id": "0c3bbdc1",
   "metadata": {},
   "outputs": [],
   "source": [
    "client = MongoClient(\"mongodb://localhost:27017/\")\n",
    "db = client[\"webscrapping_microsoft_dp203t00\"]"
   ]
  },
  {
   "cell_type": "markdown",
   "id": "ca68a2be",
   "metadata": {},
   "source": [
    "### Création de la collection **parcours_apprentissage** et mise en base du premier document\n",
    "\n",
    "Créons maintenant un schéma pour une première collection de notre base de données. Commençons par exemple par un parcours d'apprentissage."
   ]
  },
  {
   "cell_type": "code",
   "execution_count": 22,
   "id": "404f276f",
   "metadata": {},
   "outputs": [],
   "source": [
    "schema_parcours = {\n",
    "    \"bsonType\": \"object\",\n",
    "    \"required\": [\n",
    "        \"titre\",\n",
    "        \"duree\",\n",
    "        \"avant_propos\",\n",
    "        \"niveau\",\n",
    "        \"mots_cles\",\n",
    "    ],\n",
    "    \"properties\": {\n",
    "        \"titre\": {\n",
    "            \"bsonType\": \"string\",\n",
    "        },\n",
    "        \"duree\": {\n",
    "            \"bsonType\": \"string\",\n",
    "        },\n",
    "        \"avant_propos\": {\n",
    "            \"bsonType\": \"string\",\n",
    "        },\n",
    "        \"niveau\": {\n",
    "            \"bsonType\": \"string\",\n",
    "        },\n",
    "        \"mots_cles\": {\n",
    "            \"bsonType\": \"array\",\n",
    "            \"minItems\": 1,\n",
    "            \"items\": {\n",
    "                \"bsonType\": \"string\"\n",
    "            },\n",
    "        },\n",
    "        \"prerequis\": {\n",
    "            \"bsonType\": \"string\",\n",
    "        },\n",
    "        \"module_ids\": {\n",
    "            \"bsonType\": \"array\",\n",
    "            \"minItems\": 0,\n",
    "            \"items\": {\n",
    "                \"bsonType\": \"objectId\",\n",
    "            },\n",
    "        }\n",
    "    }\n",
    "}\n",
    "\n",
    "validator = {\"$jsonSchema\": schema_parcours}"
   ]
  },
  {
   "cell_type": "markdown",
   "id": "b8b788d0",
   "metadata": {},
   "source": [
    "On va maintenant créer la collection dans la base de données.\n",
    "\n",
    "*Note: Afin que la cellule suivante fonctionne plusieurs fois d'affilée, si la collection existe déjà, on la supprime pour le récréer.*"
   ]
  },
  {
   "cell_type": "code",
   "execution_count": 23,
   "id": "a8c409d4",
   "metadata": {},
   "outputs": [],
   "source": [
    "try:\n",
    "    collection = db.create_collection(\"parcours_apprentissage\", validator=validator)\n",
    "except:\n",
    "    db.parcours_apprentissage.drop()\n",
    "    collection = db.create_collection(\"parcours_apprentissage\", validator=validator)"
   ]
  },
  {
   "cell_type": "markdown",
   "id": "92d10e0b",
   "metadata": {},
   "source": [
    "On peut maintenant accéder à la collection et insérer un nouveau parcours"
   ]
  },
  {
   "cell_type": "code",
   "execution_count": 24,
   "id": "22de8568",
   "metadata": {},
   "outputs": [],
   "source": [
    "collection = db[\"parcours_apprentissage\"]\n",
    "# Note: le dictionnaire new_learning_path avait été créé préalablement\n",
    "learning_path_result = collection.insert_one(new_learning_path)"
   ]
  },
  {
   "cell_type": "markdown",
   "id": "817d458e",
   "metadata": {},
   "source": [
    "### Création de la collection **module_cours** et mise en base de son premier document\n",
    "\n",
    "Ensuite on peut faire de même pour la création d'un premier module dans la base de données. D'abord le schéma."
   ]
  },
  {
   "cell_type": "code",
   "execution_count": 25,
   "id": "951b258a",
   "metadata": {},
   "outputs": [],
   "source": [
    "schema_module = {\n",
    "    \"bsonType\": \"object\",\n",
    "    \"required\": [\n",
    "        \"titre\",\n",
    "        \"duree\",\n",
    "        \"avant_propos\",\n",
    "        \"niveau\",\n",
    "        \"objectifs\",\n",
    "        \"parcours_ids\",\n",
    "        \"notion_ids\",\n",
    "    ],\n",
    "    \"properties\": {\n",
    "        \"titre\": {\n",
    "            \"bsonType\": \"string\",\n",
    "        },\n",
    "        \"duree\": {\n",
    "            \"bsonType\": \"string\",\n",
    "        },\n",
    "        \"avant_propos\": {\n",
    "            \"bsonType\": \"string\",\n",
    "        },\n",
    "        \"niveau\": {\n",
    "            \"bsonType\": \"string\",\n",
    "        },\n",
    "        \"mots_cles\": {\n",
    "            \"bsonType\": \"array\",\n",
    "            \"minItems\": 1,\n",
    "            \"items\": {\n",
    "                \"bsonType\": \"string\"\n",
    "            },\n",
    "        },\n",
    "        \"objectifs\": {\n",
    "            \"bsonType\": \"array\",\n",
    "            \"minItems\": 1,\n",
    "            \"items\": {\n",
    "                \"bsonType\": \"string\"\n",
    "            },\n",
    "        },\n",
    "        \"prerequis\": {\n",
    "            \"bsonType\": \"string\",\n",
    "        },\n",
    "        \"parcours_ids\": {\n",
    "            \"bsonType\": \"array\",\n",
    "            \"minItems\": 0,\n",
    "            \"items\": {\n",
    "                \"bsonType\": \"objectId\",\n",
    "            },\n",
    "        },\n",
    "        \"notion_ids\": {\n",
    "            \"bsonType\": \"array\",\n",
    "            \"minItems\": 0,\n",
    "            \"items\": {\n",
    "                \"bsonType\": \"objectId\",\n",
    "            },\n",
    "        }\n",
    "    }\n",
    "}\n",
    "\n",
    "validator = {\"$jsonSchema\": schema_module}"
   ]
  },
  {
   "cell_type": "markdown",
   "id": "8529d2f4",
   "metadata": {},
   "source": [
    "Créons la collection"
   ]
  },
  {
   "cell_type": "code",
   "execution_count": 26,
   "id": "227f5e11",
   "metadata": {},
   "outputs": [],
   "source": [
    "try:\n",
    "    collection = db.create_collection(\"module_cours\", validator=validator)\n",
    "except:\n",
    "    db.module_cours.drop()\n",
    "    collection = db.create_collection(\"module_cours\", validator=validator)"
   ]
  },
  {
   "cell_type": "markdown",
   "id": "a2e80b14",
   "metadata": {},
   "source": [
    "et insérons un premier module préalablement aggrégé dans un dictionnaire. On va au préalable ajouter l'ID du parcours"
   ]
  },
  {
   "cell_type": "code",
   "execution_count": 27,
   "id": "1a7fe1dc",
   "metadata": {},
   "outputs": [],
   "source": [
    "# Note: le dictionnaire new_module avait été créé préalablement\n",
    "new_module[\"parcours_ids\"].append(learning_path_result.inserted_id)\n",
    "\n",
    "collection = db[\"module_cours\"]\n",
    "module_result = collection.insert_one(new_module)"
   ]
  },
  {
   "cell_type": "markdown",
   "id": "ef29d3e6",
   "metadata": {},
   "source": [
    "Maintenant que le module est créé, nous pouvons également insérer son ID dans le document **parcours_apprentissage** créé précédemment."
   ]
  },
  {
   "cell_type": "code",
   "execution_count": 28,
   "id": "4f81a98b",
   "metadata": {},
   "outputs": [
    {
     "data": {
      "text/plain": [
       "UpdateResult({'n': 1, 'nModified': 1, 'ok': 1.0, 'updatedExisting': True}, acknowledged=True)"
      ]
     },
     "execution_count": 28,
     "metadata": {},
     "output_type": "execute_result"
    }
   ],
   "source": [
    "my_fields = {\n",
    "    \"$push\": {\"module_ids\": module_result.inserted_id},\n",
    "}\n",
    "my_filter = {\n",
    "    \"_id\": learning_path_result.inserted_id,\n",
    "}\n",
    "collection = db[\"parcours_apprentissage\"]\n",
    "collection.update_one(my_filter, my_fields)"
   ]
  },
  {
   "cell_type": "markdown",
   "id": "646df1aa",
   "metadata": {},
   "source": [
    "### Création de la collection **notion_cours** et mise en base de ses premiers documents\n",
    "\n",
    "et pour terminer, nous allons mettre en base de données le contenu d'une unité de cours de ce module"
   ]
  },
  {
   "cell_type": "code",
   "execution_count": 29,
   "id": "21b91b30",
   "metadata": {},
   "outputs": [],
   "source": [
    "schema_notion = {\n",
    "    \"bsonType\": \"object\",\n",
    "    \"required\": [\n",
    "        \"titre\",\n",
    "        \"texte\"\n",
    "    ],\n",
    "    \"properties\": {\n",
    "        \"titre\": {\n",
    "            \"bsonType\": \"string\",\n",
    "        },\n",
    "        \"duree\": {\n",
    "            \"bsonType\": \"string\",\n",
    "        },\n",
    "        \"metadata\": {\n",
    "            \"bsonType\": \"array\",\n",
    "            \"minItems\": 0,\n",
    "            \"items\": {\n",
    "                \"bsonType\": \"string\",\n",
    "            },\n",
    "        },\n",
    "        \"texte\": {\n",
    "            \"bsonType\": \"array\",\n",
    "            \"minItems\": 1,\n",
    "            \"items\": {\n",
    "                \"bsonType\": \"string\",\n",
    "            },\n",
    "        },\n",
    "        \"notion_ids\": {\n",
    "            \"bsonType\": \"array\",\n",
    "            \"minItems\": 0,\n",
    "            \"items\": {\n",
    "                \"bsonType\": \"objectId\",\n",
    "            },\n",
    "        }\n",
    "    }\n",
    "}\n",
    "\n",
    "validator = {\"$jsonSchema\": schema_notion}"
   ]
  },
  {
   "cell_type": "markdown",
   "id": "1d10cf85",
   "metadata": {},
   "source": [
    "Créons la collection"
   ]
  },
  {
   "cell_type": "code",
   "execution_count": 30,
   "id": "9f4729a2",
   "metadata": {},
   "outputs": [],
   "source": [
    "try:\n",
    "    collection = db.create_collection(\"notion_cours\", validator=validator)\n",
    "except:\n",
    "    db.notion_cours.drop()\n",
    "    collection = db.create_collection(\"notion_cours\", validator=validator)"
   ]
  },
  {
   "cell_type": "markdown",
   "id": "678a4be7",
   "metadata": {},
   "source": [
    "L'insertion du contenu d'une page est un peu plus complexe que précédemment car ils vont être mises en base en plusieurs documents. Pour rappel le contenu d'une unité de cours du module déjà en base est insérée dans:"
   ]
  },
  {
   "cell_type": "code",
   "execution_count": 31,
   "id": "bc61dd34",
   "metadata": {},
   "outputs": [
    {
     "data": {
      "text/plain": [
       "{'titre': 'Qu’est-ce que l’ingénierie des données ?',\n",
       " 'duree': '5 minutes',\n",
       " 'texte': ['L’ingénieur données travaillera souvent avec plusieurs types de données pour effectuer de nombreuses opérations à l’aide de nombreux langages de script ou de codage appropriés à leur organisation individuelle.'],\n",
       " 'parts': [{'titre': 'Types de données',\n",
       "   'texte': [\"Il existe trois types principaux de données qu'un ingénieur de données utilisera.\"],\n",
       "   'subparts': []},\n",
       "  {'titre': 'Opérations de données',\n",
       "   'texte': ['En tant qu’ingénieur données, certaines des tâches principales que vous effectuerez dans Azure incluent l’intégration des données , la transformation des données et la consolidation des données .'],\n",
       "   'subparts': [{'titre': 'Intégration de données',\n",
       "     'texte': ['L’intégration des données implique l’établissement de liens entre les services opérationnels et analytiques et les sources de données pour permettre un accès sécurisé et fiable aux données sur plusieurs systèmes. Par exemple, un processus métier peut s’appuyer sur des données réparties sur plusieurs systèmes, et un ingénieur données est nécessaire pour établir des liens afin que les données requises puissent être extraites de tous ces systèmes.']},\n",
       "    {'titre': 'Transformation des données',\n",
       "     'texte': ['Les données opérationnelles doivent généralement être transformées en structure et format appropriés pour l’analyse, souvent dans le cadre d’un processus d’extraction, de transformation et de chargement (ETL) ; bien que de plus en plus une variation dans laquelle vous extrayez, chargez et transformez (ELT) les données sont utilisées pour ingérer rapidement les données dans un lac de données, puis appliquer des techniques de traitement « Big Data » pour les transformer. Quelle que soit l’approche utilisée, les données sont prêtes à prendre en charge les besoins analytiques en aval.']},\n",
       "    {'titre': 'Consolidation des données',\n",
       "     'texte': ['La consolidation des données est le processus de combinaison de données extraites de plusieurs sources de données dans une structure cohérente, généralement pour prendre en charge l’analytique et la création de rapports. En règle générale, les données des systèmes opérationnels sont extraites, transformées et chargées dans des magasins analytiques tels qu’un lac de données ou un entrepôt de données.']}]},\n",
       "  {'titre': 'Langues courantes',\n",
       "   'texte': ['Les ingénieurs données doivent être compétents avec une gamme d’outils et de langages de script , en particulier SQL et Python, et potentiellement d’autres.'],\n",
       "   'subparts': []}]}"
      ]
     },
     "execution_count": 31,
     "metadata": {},
     "output_type": "execute_result"
    }
   ],
   "source": [
    "unit_content"
   ]
  },
  {
   "cell_type": "markdown",
   "id": "1ccdf594",
   "metadata": {},
   "source": [
    "Le contenu étant déjà sous forme de dictionnaires de dictionnaires, nous allons pouvoir faire la mise en base de tous les documents \"notions_cours\" contenus dans ce dictionnaire et les relier les uns aux autres."
   ]
  },
  {
   "cell_type": "code",
   "execution_count": 32,
   "id": "fbbbea20",
   "metadata": {},
   "outputs": [],
   "source": [
    "collection = db[\"notion_cours\"]\n",
    "\n",
    "parts = []\n",
    "for part in unit_content[\"parts\"]:\n",
    "    subparts = []\n",
    "    for subpart in part[\"subparts\"]:\n",
    "        notion_result = collection.insert_one(subpart)\n",
    "        subparts.append(notion_result.inserted_id)\n",
    "\n",
    "    if len(subparts) > 0:\n",
    "        # On remplace les données déjà mises en base par leur ID nouvellement créé\n",
    "        part[\"subparts\"] = subparts\n",
    "    else:\n",
    "        part.pop(\"subparts\")\n",
    "\n",
    "    notion_result = collection.insert_one(part)\n",
    "    parts.append(notion_result.inserted_id)\n",
    "\n",
    "if len(parts) > 0:\n",
    "    # On remplace les données déjà mises en base par leur ID nouvellement créé\n",
    "    unit_content[\"parts\"] = parts\n",
    "else:\n",
    "    unit_content.pop(\"parts\")\n",
    "\n",
    "notion_result = collection.insert_one(unit_content)      "
   ]
  },
  {
   "cell_type": "markdown",
   "id": "3ac1cbf6",
   "metadata": {},
   "source": [
    "Maintenant que l'unité de cours a été mise en base, on peut indiquer son Id dans le document du module correspondant."
   ]
  },
  {
   "cell_type": "code",
   "execution_count": 33,
   "id": "87e56bb5",
   "metadata": {},
   "outputs": [
    {
     "data": {
      "text/plain": [
       "UpdateResult({'n': 1, 'nModified': 1, 'ok': 1.0, 'updatedExisting': True}, acknowledged=True)"
      ]
     },
     "execution_count": 33,
     "metadata": {},
     "output_type": "execute_result"
    }
   ],
   "source": [
    "my_fields = {\n",
    "    \"$push\": {\"notion_ids\": notion_result.inserted_id},\n",
    "}\n",
    "my_filter = {\n",
    "    \"_id\": module_result.inserted_id,\n",
    "}\n",
    "collection = db[\"module_cours\"]\n",
    "collection.update_one(my_filter, my_fields)"
   ]
  },
  {
   "cell_type": "markdown",
   "id": "1d3389f0",
   "metadata": {},
   "source": [
    "## Pour poursuivre le travail...\n",
    "\n",
    "Ce notebook montre les différentes étapes à suivre pour appliquer la méthode de webscrapping à partir du site https://learn.microsoft.com/fr-fr/training/courses/dp-203t00\n",
    "L'exemple des commandes ci-dessus s'applique à l'extraction des informations d'une page de parcours référencée sur cette page, puis d'une page module référencée sur la page parcours, et enfin d'une page unité de cours référencée sur la page du module.\n",
    "\n",
    "Pour aller plus loin, il serait nécessaire de mettre ce code sous forme de script pour pouvoir l'appliquer à plus de pages. Cela permettrait en outre de tester si la méthode développée ne rencontre pas de problèmes sur d'autres pages qu'on a supposé être structuré de la même manière que les pages utilisées dans ce notebook.\n",
    "\n",
    "Ensuite, l'ensemble du contenu pertinent des pages n'a pas été entièrement récupéré. Certaines balises HTML ont été ignoré:\n",
    "- Les listes de texte\n",
    "- Les tableaux\n",
    "- Les images\n",
    "sont par exemple des balises qu'il faudrait essayer d'extraire.\n",
    "\n",
    "Nous avons également supposé deux niveaux de parties et sous-parties pour une unité de cours. Peut-être certaines unités possèdent une couche supplémentaire.\n",
    "\n",
    "Enfin certaines unités de cours ne sont pas pertinentes à extraire (par exemple *Évaluation du module*). Le script à developper devrait prendre soin de ne pas extraire celle-là."
   ]
  },
  {
   "cell_type": "markdown",
   "id": "a2d13f65",
   "metadata": {},
   "source": []
  }
 ],
 "metadata": {
  "kernelspec": {
   "display_name": ".venv",
   "language": "python",
   "name": "python3"
  },
  "language_info": {
   "codemirror_mode": {
    "name": "ipython",
    "version": 3
   },
   "file_extension": ".py",
   "mimetype": "text/x-python",
   "name": "python",
   "nbconvert_exporter": "python",
   "pygments_lexer": "ipython3",
   "version": "3.12.3"
  }
 },
 "nbformat": 4,
 "nbformat_minor": 5
}
